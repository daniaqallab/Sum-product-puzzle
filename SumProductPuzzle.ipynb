{
  "nbformat": 4,
  "nbformat_minor": 0,
  "metadata": {
    "colab": {
      "provenance": []
    },
    "kernelspec": {
      "name": "python3",
      "display_name": "Python 3"
    },
    "language_info": {
      "name": "python"
    }
  },
  "cells": [
    {
      "cell_type": "code",
      "source": [
        "N_MAX = 800  # Limit for searching\n",
        "\n",
        "def p(x):\n",
        "    res = []\n",
        "    for i in range(2, x):\n",
        "        for j in range(i, x):\n",
        "            if i + j == x and i != j:\n",
        "                res.append(i * j)\n",
        "    return res\n",
        "\n",
        "def s(x):\n",
        "    res = []\n",
        "    for i in range(2, x):\n",
        "        for j in range(i, x):\n",
        "            if i * j == x and i != j:\n",
        "                res.append(i + j)\n",
        "    return res\n",
        "\n",
        "# Finding numbers satisfying condition (1') to make sure P(x) contain more than one element\n",
        "P1 = []\n",
        "for i in range(2, N_MAX):\n",
        "    if len(s(i)) > 1:\n",
        "        P1.append(i)\n",
        "\n",
        "# Finding numbers satisfying condition (2)\n",
        "S1 = []\n",
        "for i in range(2, N_MAX):\n",
        "    if set(p(i)).issubset(set(P1)):\n",
        "        S1.append(i)\n",
        "\n",
        "# Finding numbers satisfying condition (3)\n",
        "P2 = []\n",
        "for i in range(2, N_MAX):\n",
        "    Si = s(i)\n",
        "    temp = []\n",
        "    for j in range(len(Si)):\n",
        "        if Si[j] in S1:\n",
        "            temp.append(Si[j])\n",
        "    if len(temp) == 1:\n",
        "        P2.append(i)\n",
        "\n",
        "# Finding numbers that fits the condition (4)\n",
        "S2 = []\n",
        "X = -1  # X - n * m\n",
        "for i in range(len(S1)):\n",
        "    Py = p(S1[i])\n",
        "    temp = []\n",
        "    for j in range(len(Py)):\n",
        "        if Py[j] in P2:\n",
        "            temp.append(Py[j])\n",
        "    if len(temp) == 1:\n",
        "        S2.append(S1[i])\n",
        "        X = temp[0]\n",
        "\n",
        "\"\"\"# Function to find the pair of numbers (n, m)\n",
        "def find_pair(S, X):\n",
        "    for n in range(1, S):  # Iterate through possible values of n\n",
        "        m = S - n  # Calculate m based on the sum\n",
        "        if n * m == X:  # Check if the product matches\n",
        "            return (n, m)  # Return the pair (n, m)\n",
        "    # Return None if no pair is found\"\"\"\n",
        "\n",
        "def find_numbers(X,S):\n",
        "    # Iterate through possible values for x\n",
        "    for i in range(2, S):  # x must be less than S\n",
        "        if S - i > 1:  # Ensure y is at least 2\n",
        "            y = S - i  # Calculate y based on S\n",
        "            if i * y == X:  # Check if the product matches P\n",
        "                return (i, y)\n",
        "\n",
        "# Find and print the pair of numbers\n",
        "result_pair = find_numbers(X, S2[0])\n",
        "print(\"Possible pairs:\", result_pair)\n",
        "print(\"S2:\", S2[0])\n",
        "print(\"X:\", X)"
      ],
      "metadata": {
        "colab": {
          "base_uri": "https://localhost:8080/"
        },
        "id": "FGuFvWuH9sDS",
        "outputId": "c34e68a6-5f61-4bbf-eeff-808d0e3d68ee"
      },
      "execution_count": null,
      "outputs": [
        {
          "output_type": "stream",
          "name": "stdout",
          "text": [
            "Possible pairs: (4, 13)\n",
            "S2: 17\n",
            "X: 52\n"
          ]
        }
      ]
    }
  ]
}